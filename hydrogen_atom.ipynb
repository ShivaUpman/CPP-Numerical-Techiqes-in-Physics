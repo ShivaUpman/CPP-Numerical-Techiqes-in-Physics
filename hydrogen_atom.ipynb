{
 "cells": [
  {
   "cell_type": "markdown",
   "metadata": {
    "id": "c0R8hXUD6eFn"
   },
   "source": [
    "The Hamiltonian for a system of an electron and a proton is:\n",
    "\n",
    "$$\\hat{H}_{total} = -\\frac{\\hbar^2}{2m_p}\\nabla^2_p + -\\frac{\\hbar^2}{2m_e}\\nabla^2_e + \\frac{e^2}{4 \\pi \\varepsilon_0 |\\vec{r}_1 - \\vec{r}_2|}$$"
   ]
  },
  {
   "cell_type": "markdown",
   "metadata": {
    "id": "D57hVj_c6eFq"
   },
   "source": [
    "# Eigenstates of the System\n",
    "Which we will, of course, put in the Time-Independent Schrodinger Equation:\n",
    "\n",
    "$$\\hat{H} \\Psi(\\vec{r}_1, \\vec{r}_2, t) = E \\Psi(\\vec{r}_1, \\vec{r}_2, t)\\\\\n",
    "%\\implies E_k \\Psi_k(\\vec{r}_1, \\vec{r}_2, t) = \\hat{H} \\Psi_k(\\vec{r}_1, \\vec{r}_2, t)$$\n",
    "\n",
    "However, we will simplify the situation first. The first thing you might have noticed is that for a two-particle system, the wavefunction depends on two coordinates, and this in fact extends the interpretation of $\\Psi^2$ for a one-particle system (which was just the propability amplitude for finding the particle at that particular position), to being \"the probability of finding particle 1 at $\\vec{r}_1$ and particle 2 at $\\vec{r_2}$\". This is clearly something interesting, but we'll ignore two particle wavefunctions for now and focus on converting our problem to that of a one-particle wavefunction.\n",
    "\n",
    "Another problem with two or more particles being simulated is that the Schrodinger equation just does not take spin into account, and spin is quite important for simulating multiparticle systems. We can't even simulate the hydrogen molecule $\\text{H}_2$ without spin; the Schrodinger equation - if spin is not incorporated - predicts that hydrogen molecules can't exist (!) due to the fermionic interaction between the two atomic electrons. Specifically, the second electron is stuck in the higher energy non-bonding orbital $\\sigma^\\ast_{1s}$, and thus there is minimal energy change from the free atom case."
   ]
  },
  {
   "cell_type": "markdown",
   "metadata": {
    "id": "BsGZFwI16eFq"
   },
   "source": [
    "We apply the coordinate transformation to center of mass of coordinates, upon which we get the following Hamiltonian:\n",
    "\n",
    "$$\\hat{H}_{\\text{CoM}}= -\\frac{\\hbar^2}{2\\mu}\\nabla_R^2-\\frac{\\hbar^2}{2\\mu}\\nabla_r^2 - \\frac{e^2}{4 \\pi \\varepsilon_0 |\\vec{r}|}$$\n",
    "\n",
    "Where $\\mu = \\frac{m_p m_e}{m_p + m_e}$, $\\vec{R} = \\frac{m_e \\vec{r_e} + m_p \\vec{r_p}}{m_e + m_p}$ are the CoM coordiantes, and $\\vec{r} = \\vec{r_e} - \\vec{r_p}$ is the displacement vector from one particle to the other. Either sign works. Refer to CH107 from first year for the details. Thus our Hamiltonian is separated into free-particle Hamiltonian on the COM and a one-particle Hamiltonian in a Coulombic potential. We are interested in the second part.\n",
    "\n",
    "## Question 1\n",
    "Expand the second part of the Hamiltonian, the one acting on the displacement vector $\\vec{r} = (x,y,z)$, in Cartesian coordinates."
   ]
  },
  {
   "cell_type": "markdown",
   "metadata": {},
   "source": [
    "### Answer 1: Expand the second part of the Hamiltonian in Cartesian coordinates.\n",
    "\n",
    "We are given the second part of the Hamiltonian:\n",
    "\n",
    "$$ \\hat{H}_r = -\\frac{\\hbar^2}{2 \\mu} \\nabla^2 - \\frac{e^2}{4 \\pi \\varepsilon_0 |\\vec{r}|}, $$\n",
    "\n",
    "where $\\vec{r} = (x,y,z)$, is the displacement vector between the electron and proton in Cartesian coordinates. To expand this in Cartesian coordinates, we first break it into the two parts:\n",
    "\n",
    "### 1. Kinetic Term: \n",
    "\n",
    "The Laplacian operator in three dimensions in Cartesian coordinates is:\n",
    "\n",
    "$$ \\nabla^2 = \\frac{\\partial^2}{\\partial x^2} + \\frac{\\partial^2}{\\partial y^2} + \\frac{\\partial^2}{\\partial z^2}. $$\n",
    "\n",
    "So, the kinetic term of the Hamiltonian becomes:\n",
    "\n",
    "$$ -\\frac{\\hbar^2}{2 \\mu} \\nabla^2 = -\\frac{\\hbar^2}{2 \\mu} \\left( \\frac{\\partial^2}{\\partial x^2} + \\frac{\\partial^2}{\\partial y^2} + \\frac{\\partial^2}{\\partial z^2} \\right). $$\n",
    "\n",
    "### 2. Potential Term: \n",
    "\n",
    "The potential energy term in the Hamiltonian depends on the distance between the two particles, $\\vec{r}$, which is the magnitude of the displacement vector. In Cartesian coordinates, the magnitude of $\\vec{r}$, is given by:\n",
    "\n",
    "$$ |\\vec{r}| = \\sqrt{x^2 + y^2 + z^2}. $$\n",
    "\n",
    "Thus, the potential term becomes:\n",
    "\n",
    "$$ - \\frac{e^2}{4 \\pi \\varepsilon_0 |\\vec{r}|} = - \\frac{e^2}{4 \\pi \\varepsilon_0 \\sqrt{x^2 + y^2 + z^2}}. $$\n",
    "\n",
    "### Final Form of the Hamiltonian in Cartesian Coordinates\n",
    "\n",
    "Combining the kinetic and potential terms, we get the total Hamiltonian for the relative motion of the electron and proton in Cartesian coordinates:\n",
    "\n",
    "$$ \\hat{H}_r = -\\frac{\\hbar^2}{2 \\mu} \\left( \\frac{\\partial^2}{\\partial x^2} + \\frac{\\partial^2}{\\partial y^2} + \\frac{\\partial^2}{\\partial z^2} \\right) - \\frac{e^2}{4 \\pi \\varepsilon_0 \\sqrt{x^2 + y^2 + z^2}}. $$\n",
    "\n",
    "This is the desired expanded form of the Hamiltonian acting on the displacement vector \\(\\vec{r}\\) in Cartesian coordinates.\n"
   ]
  },
  {
   "cell_type": "markdown",
   "metadata": {},
   "source": [
    "# Numerical Solution\n",
    "Here's how we are going to solve this numerically:\n",
    "\n",
    "Using the finite-difference method, we discretize the left side of the equation so that the partial derivative terms get converted into terms involving the value of $\\psi$ at a coordinate _and_ its neighoring coordinates."
   ]
  },
  {
   "cell_type": "markdown",
   "metadata": {
    "id": "CRd-fAWm6eFr"
   },
   "source": [
    "## Question 2\n",
    "Discretize the Schrodinger Equation using Cartesian coordinates. Consider a spacing between the points of $\\Delta x$ for all axes."
   ]
  },
  {
   "cell_type": "markdown",
   "metadata": {
    "id": "7DwCwrY46eFr"
   },
   "source": [
    "We can actually use this discretized form of the right hand side to compute the energy eigenstates and eigenvalues of the electron in this hydrogen atom model, which should give us the familiar orbitals of a hydrogen atom. Let's try that first!\n",
    "\n",
    "All we need to do is to construct the Hamiltonian matrix by first flattening the possible coordinates of psi and then constructing the operator matrix that gives us the left hand side of the equation. Then we use an eigensolver algorithm for the operator matrix to obtain the eigenvectors and eigenvalues."
   ]
  },
  {
   "cell_type": "markdown",
   "metadata": {
    "id": "mmO48qNDoRsz"
   },
   "source": [
    "Step 1 : Let us create the Hamiltonian operator and all the other tools we will need."
   ]
  },
  {
   "cell_type": "code",
   "execution_count": 1,
   "metadata": {
    "execution": {
     "iopub.execute_input": "2025-01-14T12:56:35.234112Z",
     "iopub.status.busy": "2025-01-14T12:56:35.233577Z",
     "iopub.status.idle": "2025-01-14T12:56:35.638531Z",
     "shell.execute_reply": "2025-01-14T12:56:35.637360Z",
     "shell.execute_reply.started": "2025-01-14T12:56:35.234069Z"
    },
    "id": "sb18uIPR6eFs",
    "trusted": true
   },
   "outputs": [],
   "source": [
    "#importing standard data science libraries\n",
    "import numpy as np\n",
    "import pandas as pd\n",
    "import matplotlib.pyplot as plt\n",
    "from math import *"
   ]
  },
  {
   "cell_type": "markdown",
   "metadata": {
    "id": "sF3caLBBVYqJ"
   },
   "source": [
    "## Question 3: Constructing the Hamiltonian Operator\n",
    "Recall the method of converting the discretized version of the laplacian operator into a 2D matrix, and apply the same technique for the discretized version of the hamiltonian operator. Construct the hamiltonian matrix within `get_hamiltonian`. Also fill in the helper functions `index3d_to_flat`, `flat_to_index3d`, and `index3d_to_coords`."
   ]
  },
  {
   "cell_type": "code",
   "execution_count": 2,
   "metadata": {
    "execution": {
     "iopub.execute_input": "2025-01-14T12:56:35.640312Z",
     "iopub.status.busy": "2025-01-14T12:56:35.639753Z",
     "iopub.status.idle": "2025-01-14T12:57:17.320683Z",
     "shell.execute_reply": "2025-01-14T12:57:17.319463Z",
     "shell.execute_reply.started": "2025-01-14T12:56:35.640269Z"
    },
    "id": "saMFpiWl6eFt",
    "trusted": true
   },
   "outputs": [],
   "source": [
    "import scipy.sparse as sp\n",
    "import itertools\n",
    "from scipy.constants import hbar, e, m_e, m_p, epsilon_0, pi\n",
    "\n",
    "#reduced mass\n",
    "mu = m_e*m_p/(m_e+m_p)\n",
    "\n",
    "N = 100\n",
    "Delta_x = 2e-9/N # our boundary width is 1e-8 m\n",
    "\n",
    "def index3d_to_flat(i,j,k):\n",
    "    '''Write a function that converts the i,j,k integer coordinates of the unflattened psi array\n",
    "       into the appropriate flattened index\n",
    "    '''\n",
    "    return i * N**2 + j * N + k\n",
    "\n",
    "\n",
    "def flat_to_index3d(flat_index):\n",
    "    '''Now write a function to do the reverse. Remember the limits on the coords\n",
    "       i.e. 0 <= i,j,k < N. Base N if you prefer that.\n",
    "    '''\n",
    "    i = flat_index // (N**2)\n",
    "    j = (flat_index % (N**2)) // N\n",
    "    k = flat_index % N\n",
    "    return i, j, k\n",
    "\n",
    "def index3d_to_coords(i,j,k):\n",
    "    '''Now we transform the coords to real space coordinate. Remember to incorporate\n",
    "       the scaling factor\n",
    "    '''\n",
    "    x = (i - N//2) * Delta_x\n",
    "    y = (j - N//2) * Delta_x\n",
    "    z = (k - N//2) * Delta_x\n",
    "    return np.array([x, y, z])\n",
    "\n",
    "# Define the position of the proton/central position, depends if you are taking\n",
    "# an approximation point of view or proper CoM transformation\n",
    "proton_position = index3d_to_coords((N - 1)/2.0, (N - 1)/2.0, (N - 1)/2.0)\n",
    "# Or you can remove this and implicitly assume an appropriate position below\n",
    "\n",
    "############################################################################################################################################################\n",
    "\n",
    "hamiltonian = sp.lil_matrix((N**3, N**3), dtype=np.float64) # create a sparse matrix\n",
    "\n",
    "def get_hamiltonian(matrix, N, Delta_x):\n",
    "    T_factor = -(hbar**2)/(2*mu*(Delta_x**2))\n",
    "    V_factor = e**2/(4*pi*epsilon_0)\n",
    "    '''Initialize the matrix elements appropriately.\n",
    "       Since the matrix is going to be large, we have already taken it to be sparse.\n",
    "       No need to set any 0 elements.\n",
    "    '''\n",
    "    num_points = N**3\n",
    "    hamiltonian = matrix\n",
    "\n",
    "    for i, j, k in itertools.product(range(N), repeat=3):\n",
    "        flat = index3d_to_flat(i, j, k)\n",
    "        coords = index3d_to_coords(i, j, k)\n",
    "        r = np.linalg.norm(coords)\n",
    "\n",
    "        # Potential energy term\n",
    "        if r != 0:\n",
    "            V = -1.0*V_factor/r\n",
    "        else:\n",
    "            V = 0  # Avoid division by zero\n",
    "\n",
    "        # Add diagonal term\n",
    "        hamiltonian[flat, flat] += -6 * T_factor + V\n",
    "\n",
    "        # Add neighbors for the Laplacian (Dirichlet boundary conditions)\n",
    "        neighbors = [(i+1, j, k), (i-1, j, k), (i, j+1, k), (i, j-1, k), (i, j, k+1), (i, j, k-1)]\n",
    "        for ni, nj, nk in neighbors:\n",
    "            if 0 <= ni < N and 0 <= nj < N and 0 <= nk < N:\n",
    "                neighbor_flat = index3d_to_flat(ni, nj, nk)\n",
    "                hamiltonian[flat, neighbor_flat] += T_factor\n",
    "\n",
    "    return hamiltonian.tocsr()\n",
    "\n",
    "\n",
    "hamiltonian = get_hamiltonian(hamiltonian, N, Delta_x)"
   ]
  },
  {
   "cell_type": "markdown",
   "metadata": {
    "id": "364Ds6SQZZHW"
   },
   "source": [
    "Ok, so what is the algorithm we are going to use? This is a procedure called _power iteration_.\n",
    "\n",
    "Consider the eigenvalue problem $Ax = \\lambda x$, with eigenpairs $(\\lambda_i, x_i)$. For convenience we assume that $\\lambda_1 > \\lambda_2 > \\cdots > \\lambda_n$ (or atleast their absolute values, if we have complex eigenvalues). Let us have any random vector $b = x_1 + x_2 + \\cdots + x_n$, for appropriately scaled $x_i$. Then we find that on repeat application of the matrix, $$\\begin{align}\n",
    " b^{(0)} &= b & &= \\phantom{\\lambda_1} x_1 + \\phantom{\\lambda_2} x_2 + \\cdots + \\phantom{\\lambda_n} x_n \\\\\n",
    " b^{(1)} &= Ab & &= \\lambda_1 x_1 + \\lambda_2 x_2 + \\cdots + \\lambda_n x_n \\\\\n",
    " b^{(2)} &= A^2b & &= \\lambda_1^2 x_1 + \\lambda_2^2 x_2 + \\cdots + \\lambda_n^2 x_n \\\\\n",
    " & &&\\hspace{4em} \\vdots \\\\\n",
    " b^{(k)} &= A^kb & &= \\lambda_1^k x_1 + \\lambda_2^k x_2 + \\cdots + \\lambda_n^k x_n \\\\\n",
    "\\end{align}$$\n",
    "If we consider the most dominant factor in $b^{(k)}$, we find that clearly must be $\\lambda_1^k x_1$, since $$b^{(k)} = \\lambda_1^k \\left( x_1 + \\left(\\frac{\\lambda_2}{\\lambda_1}\\right)^k x_2 + \\cdots + \\left(\\frac{\\lambda_k}{\\lambda_1}\\right)^k x_n \\right)$$\n",
    "Since each factor for the other eigenvectors have absolute values less than 1 (because $|\\lambda_1| > |\\lambda_i| \\forall i$), the multiplier trends of to 0. Note that this is a terrible way to take a limit, but it's fine for now.\n",
    "\n",
    "Thus, if we had some way, any way, to rescale and normalize $b^{(k)}$, then it would trend to the eigenvector. Hurrah, 1 eigenvector extracted! Let's implement that.\n",
    "\n",
    "Although while implementing the algortihm, you'll want to rescale $b^{(k)}$ at each step instead of just at the end. It will also make comparisions with previous iterations easier when determining convergence."
   ]
  },
  {
   "cell_type": "markdown",
   "metadata": {
    "id": "NigsZ2rMWtLL"
   },
   "source": [
    "## Question 4: Implementing the Power Iteration Algorithm\n",
    "Based on the theory provided above, implement the power iteration algorithm within the `power_iteration` function."
   ]
  },
  {
   "cell_type": "code",
   "execution_count": 3,
   "metadata": {
    "execution": {
     "iopub.execute_input": "2025-01-14T12:57:17.322513Z",
     "iopub.status.busy": "2025-01-14T12:57:17.321906Z",
     "iopub.status.idle": "2025-01-14T12:57:17.331130Z",
     "shell.execute_reply": "2025-01-14T12:57:17.329885Z",
     "shell.execute_reply.started": "2025-01-14T12:57:17.322466Z"
    },
    "id": "OyS8DTgm1nF5",
    "trusted": true
   },
   "outputs": [],
   "source": [
    "def power_iteration(matrix,mu=0, x_0 = None, tolerance = 1e-5,excluded_space=None, max_iterations = 100):\n",
    "    if x_0 is None:\n",
    "        vector = np.random.rand(matrix.shape[1])\n",
    "    else:\n",
    "        vector = np.array(x_0)\n",
    "        \n",
    "    # Normalize the initial vector\n",
    "    vector = vector / np.linalg.norm(vector)\n",
    "    \n",
    "    # Step 2: Ensure excluded_space is a list\n",
    "    if excluded_space is None:\n",
    "        excluded_space = []  # Ensure it's a list (not a numpy array)\n",
    "    \n",
    "    # Step 3: Power iteration loop with rejection\n",
    "    for iteration in range(max_iterations):\n",
    "        \n",
    "        # Step 3.1: Apply the matrix multiplication\n",
    "        new_vector = matrix.dot(vector) - mu * vector\n",
    "        \n",
    "        # Step 3.2: Reject components along known eigenvectors (project out the known eigenvectors)\n",
    "        for eigenvector in excluded_space:\n",
    "            projection = np.dot(new_vector, eigenvector) * eigenvector  # Project onto the eigenvector\n",
    "            new_vector -= projection  # Subtract the projection to reject this component\n",
    "        \n",
    "        # Normalize the new vector\n",
    "        new_vector = new_vector / np.linalg.norm(new_vector)\n",
    "        \n",
    "        # Step 3.3: Estimate the eigenvalue using Rayleigh quotient for (A - mu*I)\n",
    "        eigenvalue = np.dot(new_vector, matrix.dot(new_vector)) / np.dot(new_vector, new_vector)\n",
    "        \n",
    "        # Step 3.4: Check for convergence\n",
    "        if np.linalg.norm(new_vector - vector) < tolerance:\n",
    "            break\n",
    "        \n",
    "        # Update the vector for the next iteration\n",
    "        vector = new_vector\n",
    "    \n",
    "    # Adjust the eigenvalue by adding back the shift (mu) to get the original eigenvalue\n",
    "    eigenvalue += mu\n",
    "    \n",
    "    \n",
    "    return eigenvalue, vector"
   ]
  },
  {
   "cell_type": "code",
   "execution_count": 4,
   "metadata": {
    "colab": {
     "base_uri": "https://localhost:8080/",
     "height": 380
    },
    "execution": {
     "iopub.execute_input": "2025-01-14T12:57:17.333876Z",
     "iopub.status.busy": "2025-01-14T12:57:17.333568Z",
     "iopub.status.idle": "2025-01-14T12:58:06.257363Z",
     "shell.execute_reply": "2025-01-14T12:58:06.254648Z",
     "shell.execute_reply.started": "2025-01-14T12:57:17.333848Z"
    },
    "id": "0Aiikdivq4BZ",
    "outputId": "9213fd10-211c-4298-f2f5-6a813c134b5c",
    "trusted": true
   },
   "outputs": [
    {
     "name": "stdout",
     "output_type": "stream",
     "text": [
      "1.827452922896758e-16 [ 1.42219037e-08 -2.73354615e-08  3.83397671e-08 ...  3.30445589e-06\n",
      " -2.21730845e-06  1.11301964e-06]\n"
     ]
    }
   ],
   "source": [
    "# Get the one with max(abs) eigen value\n",
    "e_val1, eig_vec1 = power_iteration(hamiltonian, max_iterations = 1000)\n",
    "eigenvector_list = [eig_vec1]\n",
    "eigenvalue_list = [e_val1]\n",
    "print(e_val1, eig_vec1)"
   ]
  },
  {
   "cell_type": "markdown",
   "metadata": {
    "id": "CRsWzH6fgcae"
   },
   "source": [
    "Yay, the code above should compute the eigenvector with largest (absolute) eigenvalue. Feel free to go ahead and visualize the eigenstate using the `plot_wavefunction_2dslice` function a few cells below. However, the eigenvalue is probably positive, and you will be disappointed by the plot. After all, the largest absolute eigenvalue need not be the ground state, it's a hydrogen atom in a _box_ after all. Positive energy states are expected.\n",
    "\n",
    "So, how get at the ground state? Well, we can manipulate the eigenvalues of a matrix by adding matrices that are _similar_ to it([remember the linear algebra defintion](https://en.wikipedia.org/wiki/Matrix_similarity)), and the identity matrix is similar to everything. Thus we shift our eigenvalues by operating on the matrix $(A-\\mu I)$ instead! If we choose $\\mu$ to be the positive maximum eigenvalue we found, then the one we will obtain from computing $(A-\\mu I)$ will the one which is farthest from the positive eigenvalue, the negative maximum eigenvalue, the ground state. Note that for our $A$, all eigenvalues are real since it's hermitian."
   ]
  },
  {
   "cell_type": "markdown",
   "metadata": {
    "id": "Mxep9MGps1aK"
   },
   "source": [
    "Go back and add the optional $\\mu$ input variable (named `mu`) to the function `power_iteration`. For optimization, we suggest not creating a new matrix $M = A - \\mu I$ but implementing it implicitly. Be sure to compensate for $\\mu$ in the output eigenvalue if you do end up editing the matrix."
   ]
  },
  {
   "cell_type": "code",
   "execution_count": 5,
   "metadata": {
    "colab": {
     "base_uri": "https://localhost:8080/"
    },
    "execution": {
     "iopub.execute_input": "2025-01-14T12:58:06.269957Z",
     "iopub.status.busy": "2025-01-14T12:58:06.269401Z",
     "iopub.status.idle": "2025-01-14T12:58:55.166457Z",
     "shell.execute_reply": "2025-01-14T12:58:55.165058Z",
     "shell.execute_reply.started": "2025-01-14T12:58:06.269905Z"
    },
    "id": "SsnIkavVNLOj",
    "outputId": "51030fce-e49a-410a-c18d-2ce2c8345144",
    "trusted": true
   },
   "outputs": [
    {
     "name": "stdout",
     "output_type": "stream",
     "text": [
      "1.808088107937624e-16 [2.29630598e-10 4.58244709e-10 6.84818032e-10 ... 7.03933335e-10\n",
      " 4.71005518e-10 2.36015867e-10]\n",
      "1.827452922896758e-16 [ 1.42219037e-08 -2.73354615e-08  3.83397671e-08 ...  3.30445589e-06\n",
      " -2.21730845e-06  1.11301964e-06]\n"
     ]
    }
   ],
   "source": [
    "# Get the other one and sort\n",
    "e_val2, eig_vec2 = power_iteration(hamiltonian, mu = e_val1, max_iterations = 1000)\n",
    "# Now technically we don't know which one was the maximum and which one was the minimum,\n",
    "# just that they are bounds of the eigen values. So let's sort them.\n",
    "min_e, max_e = (e_val1, e_val2) if e_val1.real < e_val2.real else (e_val2, e_val1)\n",
    "min_vec, max_vec = (eig_vec1, eig_vec2) if e_val1.real < e_val2.real else (eig_vec2, eig_vec1)\n",
    "# Technically the order doesn't matter here, but we are doing this for later convenience\n",
    "eigenvector_list = [max_vec, min_vec]\n",
    "eigenvalue_list = [max_e, min_e]\n",
    "\n",
    "print(min_e, min_vec)\n",
    "print(max_e, max_vec)"
   ]
  },
  {
   "cell_type": "markdown",
   "metadata": {
    "id": "PKE_MI7atrAy"
   },
   "source": [
    "After running the above code, you should obtain an eigenvalue that is smaller than the one who add before. It may still be positive, so to get the actual ground state value it is recommended that you run it for 1000 or 3000 iterations. Open Netflix if you do go for 3000.\n",
    "\n",
    "Try plotting it with `plot_wavefunction_2dslice`. You should see a singular dot on your screen, resembling the 1s wavefunction."
   ]
  },
  {
   "cell_type": "code",
   "execution_count": 6,
   "metadata": {
    "colab": {
     "base_uri": "https://localhost:8080/",
     "height": 807
    },
    "execution": {
     "iopub.execute_input": "2025-01-14T12:58:55.168431Z",
     "iopub.status.busy": "2025-01-14T12:58:55.168047Z",
     "iopub.status.idle": "2025-01-14T12:58:55.596498Z",
     "shell.execute_reply": "2025-01-14T12:58:55.595362Z",
     "shell.execute_reply.started": "2025-01-14T12:58:55.168377Z"
    },
    "id": "mtFirjEpfGxM",
    "outputId": "eb0f6908-ef9f-4d51-b760-ac15e71d5813",
    "trusted": true
   },
   "outputs": [
    {
     "data": {
      "image/png": "[encoded data removed]",
      "text/plain": [
       "<Figure size 1000x1000 with 2 Axes>"
      ]
     },
     "metadata": {},
     "output_type": "display_data"
    }
   ],
   "source": [
    "def plot_wavefunction_2dslice(eigenvector, slice_index = N//2):\n",
    "  # plot the wavefunction in 2D slices\n",
    "  plt.figure(figsize=(10,10))\n",
    "  plt.imshow(np.abs(eigenvector.reshape((N,N,N))[:,:,slice_index]), cmap='hot')\n",
    "  plt.colorbar()\n",
    "  plt.show()\n",
    "\n",
    "plot_wavefunction_2dslice(min_vec)"
   ]
  },
  {
   "cell_type": "markdown",
   "metadata": {
    "id": "DuK35NVyuael"
   },
   "source": [
    "Ok, so that's the ground state, but what about any of the other states? Well, back when we were considering $b^{(k)} = A^kb = \\lambda_1^k x_1 + \\lambda_2^k x_2 + \\cdots + \\lambda_n^k x_n$, if we were to just remove $x_1$ and any other eigenvectors we know, then the vector we would converge to would just be the one with the second largest eigenvalue, the first excited state.\n",
    "\n",
    "But how do just remove a vector? We use a fairly standard vector operation called *projection* (or rather it's cousin, *rejection*) that can convert a vector $v_1$ into two vectors $v_1 = p + n$, where $p \\parallel v_2$ and $n \\perp v_2$ for a given vector $v_2$. Projection is taking $p$ as the result Rejection is taking $n$. It's fairly elementary, so I'll allow you to [look it up yourself](https://en.wikipedia.org/wiki/Vector_projection).\n",
    "\n",
    "Since Hamiltonians are hermitian, the different eigenvectors are orthogonal to each other. So if we implement this rejection process at every step, then we remove the ground state (and any other states we have already found), and so we get the first excited state.\n",
    "\n",
    "> Technically we could just apply rejection once in the beginning, since eigenvectors evolve into themselves when applying the matrix, but since we don't have the true eigenvectors and only their approximations, applying it at each step is better.\n",
    "\n",
    "Also, when performing rejection using multiple orthogonal vectors, either you can do it in a single step ($b' = b - p_1 - p_2 - \\cdots$), or in multiple steps ($b_1 = b - p_1(b), b_2 = b_1 - p_2(b_1), \\cdots$). The multi-step approach is preferred as it is found to be numerically stable."
   ]
  },
  {
   "cell_type": "markdown",
   "metadata": {
    "id": "Rok-cFw8zDw2"
   },
   "source": [
    "Ok, so now that you have understood the process, add an optional input variable `excluded_space` to the function `power_iteration`. It will be a list of vectors, like the `eigenvector_list` we have maintained so far (here it is a normal python list instead of numpy list because of memory reasons, but either works). Perform rejection using all the vectors after each iteration."
   ]
  },
  {
   "cell_type": "code",
   "execution_count": 7,
   "metadata": {
    "execution": {
     "iopub.execute_input": "2025-01-14T12:58:55.598008Z",
     "iopub.status.busy": "2025-01-14T12:58:55.597676Z",
     "iopub.status.idle": "2025-01-14T13:11:24.753997Z",
     "shell.execute_reply": "2025-01-14T13:11:24.752562Z",
     "shell.execute_reply.started": "2025-01-14T12:58:55.597981Z"
    },
    "id": "C_MFyacnTJKh",
    "trusted": true
   },
   "outputs": [],
   "source": [
    "for _ in range(4) :\n",
    "    eig_val, eig_vec = power_iteration(hamiltonian, mu = max_e, max_iterations = 3000, excluded_space=eigenvector_list)\n",
    "    eigenvalue_list.append(eig_val)\n",
    "    eigenvector_list = np.vstack((eigenvector_list, eig_vec))"
   ]
  },
  {
   "cell_type": "code",
   "execution_count": 8,
   "metadata": {
    "colab": {
     "base_uri": "https://localhost:8080/"
    },
    "execution": {
     "iopub.execute_input": "2025-01-14T13:11:24.755615Z",
     "iopub.status.busy": "2025-01-14T13:11:24.755127Z",
     "iopub.status.idle": "2025-01-14T13:11:24.764577Z",
     "shell.execute_reply": "2025-01-14T13:11:24.762796Z",
     "shell.execute_reply.started": "2025-01-14T13:11:24.755568Z"
    },
    "id": "NkaZVZhzXBbZ",
    "outputId": "e8243b0d-bb52-45e5-86b1-ce5373a1d26f",
    "trusted": true
   },
   "outputs": [
    {
     "data": {
      "text/plain": [
       "[1.827452922896758e-16,\n",
       " 1.808088107937624e-16,\n",
       " 1.8223029486355887e-16,\n",
       " 1.8240058711733939e-16,\n",
       " 1.8232567024692144e-16,\n",
       " 1.821985323388205e-16]"
      ]
     },
     "execution_count": 8,
     "metadata": {},
     "output_type": "execute_result"
    }
   ],
   "source": [
    "eigenvalue_list"
   ]
  },
  {
   "cell_type": "code",
   "execution_count": 9,
   "metadata": {
    "execution": {
     "iopub.execute_input": "2025-01-14T13:11:24.766282Z",
     "iopub.status.busy": "2025-01-14T13:11:24.765785Z",
     "iopub.status.idle": "2025-01-14T13:11:24.797055Z",
     "shell.execute_reply": "2025-01-14T13:11:24.795032Z",
     "shell.execute_reply.started": "2025-01-14T13:11:24.766234Z"
    },
    "trusted": true
   },
   "outputs": [
    {
     "name": "stdout",
     "output_type": "stream",
     "text": [
      "4.961309141293668e-16\n",
      "4.371503159461554e-16\n",
      "1.489693784995083e-16\n"
     ]
    }
   ],
   "source": [
    "print(np.dot(eigenvector_list[2], eigenvector_list[3]))\n",
    "print(np.dot(eigenvector_list[2], eigenvector_list[4]))\n",
    "print(np.dot(eigenvector_list[2], eigenvector_list[5]))"
   ]
  },
  {
   "cell_type": "markdown",
   "metadata": {
    "id": "rRnGHeUkzvpb"
   },
   "source": [
    "Good job! Now we simply plot and enjoy the fruit of our labor!"
   ]
  },
  {
   "cell_type": "code",
   "execution_count": 10,
   "metadata": {
    "colab": {
     "base_uri": "https://localhost:8080/",
     "height": 465
    },
    "execution": {
     "iopub.execute_input": "2025-01-14T13:11:24.798906Z",
     "iopub.status.busy": "2025-01-14T13:11:24.798367Z",
     "iopub.status.idle": "2025-01-14T13:11:25.101290Z",
     "shell.execute_reply": "2025-01-14T13:11:25.100260Z",
     "shell.execute_reply.started": "2025-01-14T13:11:24.798851Z"
    },
    "id": "dClvJk0V6eFt",
    "outputId": "5f00b1e5-6494-4b31-f6ea-95af6231d016",
    "trusted": true
   },
   "outputs": [
    {
     "data": {
      "image/png": "[encoded data removed]",
      "text/plain": [
       "<Figure size 640x480 with 1 Axes>"
      ]
     },
     "metadata": {},
     "output_type": "display_data"
    }
   ],
   "source": [
    "# plot the eigenvalues\n",
    "plt.plot([x.real for x in eigenvalue_list[1:]], 'o')\n",
    "plt.xlabel('Eigenvalue index')\n",
    "plt.ylabel('Eigenvalue')\n",
    "plt.show()"
   ]
  },
  {
   "cell_type": "markdown",
   "metadata": {
    "id": "uxgRHgf16eFu"
   },
   "source": [
    "As expected from ground state (1s) and first 4 excited states (1 from 2s and 3 from 2p)! Beautiful!"
   ]
  },
  {
   "cell_type": "code",
   "execution_count": 11,
   "metadata": {
    "colab": {
     "base_uri": "https://localhost:8080/"
    },
    "execution": {
     "iopub.execute_input": "2025-01-14T13:11:25.102534Z",
     "iopub.status.busy": "2025-01-14T13:11:25.102236Z",
     "iopub.status.idle": "2025-01-14T13:11:25.109219Z",
     "shell.execute_reply": "2025-01-14T13:11:25.107852Z",
     "shell.execute_reply.started": "2025-01-14T13:11:25.102501Z"
    },
    "id": "5UXVvvde6eFu",
    "outputId": "60fbcbc1-0df3-4ad1-aa08-48ba90086668",
    "trusted": true
   },
   "outputs": [
    {
     "name": "stdout",
     "output_type": "stream",
     "text": [
      "Ground state energy (calculated):  1.808088107937624e-16 J\n",
      "Ground state energy (known):  -2.1789602222399996e-18 J\n"
     ]
    }
   ],
   "source": [
    "#the ground state energy is the first eigenvalue\n",
    "print('Ground state energy (calculated): ', min_e.real, 'J')\n",
    "\n",
    "#the true value of the ground state energy is -13.6 eV\n",
    "print('Ground state energy (known): ', -13.6*e, 'J')"
   ]
  },
  {
   "cell_type": "code",
   "execution_count": 12,
   "metadata": {
    "execution": {
     "iopub.execute_input": "2025-01-14T13:11:25.113008Z",
     "iopub.status.busy": "2025-01-14T13:11:25.112594Z",
     "iopub.status.idle": "2025-01-14T13:11:25.130022Z",
     "shell.execute_reply": "2025-01-14T13:11:25.128736Z",
     "shell.execute_reply.started": "2025-01-14T13:11:25.112958Z"
    },
    "id": "JYCK13XE6eFu",
    "trusted": true
   },
   "outputs": [],
   "source": [
    "def plot_wavefunction_2dslice(eigenvector, slice_index = N//2):\n",
    "  # plot the wavefunction in 2D slices\n",
    "  plt.figure(figsize=(10,10))\n",
    "  plt.imshow(np.abs(eigenvector.reshape((N,N,N))[:,:,slice_index]), cmap='hot')\n",
    "  plt.colorbar()\n",
    "  plt.show()"
   ]
  },
  {
   "cell_type": "code",
   "execution_count": 13,
   "metadata": {
    "colab": {
     "base_uri": "https://localhost:8080/",
     "height": 807
    },
    "execution": {
     "iopub.execute_input": "2025-01-14T13:11:25.131879Z",
     "iopub.status.busy": "2025-01-14T13:11:25.131335Z",
     "iopub.status.idle": "2025-01-14T13:11:25.485319Z",
     "shell.execute_reply": "2025-01-14T13:11:25.483874Z",
     "shell.execute_reply.started": "2025-01-14T13:11:25.131688Z"
    },
    "id": "Q3e4eGohhVxp",
    "outputId": "5936bf86-d4e0-4c68-cfe8-36c04d17d599",
    "trusted": true
   },
   "outputs": [
    {
     "data": {
      "image/png": "[encoded data removed]",
      "text/plain": [
       "<Figure size 1000x1000 with 2 Axes>"
      ]
     },
     "metadata": {},
     "output_type": "display_data"
    }
   ],
   "source": [
    "plot_wavefunction_2dslice(eigenvector_list[2,:])"
   ]
  },
  {
   "cell_type": "markdown",
   "metadata": {
    "id": "FQJduWs20EEy"
   },
   "source": [
    "Now we plot all the 4 $n=2$ wave fucntions."
   ]
  },
  {
   "cell_type": "code",
   "execution_count": 14,
   "metadata": {
    "execution": {
     "iopub.execute_input": "2025-01-14T13:11:25.486983Z",
     "iopub.status.busy": "2025-01-14T13:11:25.486529Z",
     "iopub.status.idle": "2025-01-14T13:11:25.493208Z",
     "shell.execute_reply": "2025-01-14T13:11:25.491854Z",
     "shell.execute_reply.started": "2025-01-14T13:11:25.486950Z"
    },
    "id": "K0cAseRZ6eFv",
    "trusted": true
   },
   "outputs": [],
   "source": [
    "def plot_all_probdensity_2dslice(eigenvectors, slice_index = N//2):\n",
    "  # plot the wavefunction in 2D slices\n",
    "  n = ceil(sqrt(len(eigenvectors)))\n",
    "  plt.figure(figsize=(10,10))\n",
    "  for i in range(len(eigenvectors)):\n",
    "    plt.subplot(n,n,i+1)\n",
    "    plt.imshow(np.abs(eigenvectors[i].reshape((N,N,N))[:,:,slice_index])**2, cmap='hot')\n",
    "  plt.show()"
   ]
  },
  {
   "cell_type": "code",
   "execution_count": 15,
   "metadata": {
    "execution": {
     "iopub.execute_input": "2025-01-14T13:11:25.494970Z",
     "iopub.status.busy": "2025-01-14T13:11:25.494542Z",
     "iopub.status.idle": "2025-01-14T13:11:26.060546Z",
     "shell.execute_reply": "2025-01-14T13:11:26.059395Z",
     "shell.execute_reply.started": "2025-01-14T13:11:25.494927Z"
    },
    "id": "ZCP3REe66eFv",
    "trusted": true
   },
   "outputs": [
    {
     "data": {
      "image/png": "[encoded data removed]",
      "text/plain": [
       "<Figure size 1000x1000 with 4 Axes>"
      ]
     },
     "metadata": {},
     "output_type": "display_data"
    }
   ],
   "source": [
    "plot_all_probdensity_2dslice(eigenvector_list[2:6], )"
   ]
  },
  {
   "cell_type": "markdown",
   "metadata": {
    "id": "oYEP2ljH6eFv"
   },
   "source": [
    "As you can see, the wavefunctions (their probability density really, which we have plotted here) are not in the neat order or in the neat axis oriented forms we see in textbooks. This is because our algorithm has no way discriminating between degenerate states in a particular eigenspace. Thus we end up with arbitrary linear combinations of 2s and 2p orbitals."
   ]
  },
  {
   "cell_type": "markdown",
   "metadata": {
    "id": "edl2MN7u1xmV"
   },
   "source": [
    "Of course, there are better algorithms like Arnoldi iteration (a variant of which is used by `scipy.sparse.linalg.eigs`) which don't discard information from previous iterations and try to diagonalize in a reduced space called Krylov subspaces $= \\operatorname{span}\\left\\{b, Ab, A^2b, \\cdots A^kb \\right\\}$, but these are right now beyond the scope. Of course, the improvements are immense; `scipy.sparse.linalg.eigs` gives us 30 eigenvectors in less time than we took for 6. You can try it out."
   ]
  },
  {
   "cell_type": "markdown",
   "metadata": {},
   "source": [
    "# THE END"
   ]
  }
 ],
 "metadata": {
  "colab": {
   "provenance": []
  },
  "kaggle": {
   "accelerator": "none",
   "dataSources": [],
   "dockerImageVersionId": 30822,
   "isGpuEnabled": false,
   "isInternetEnabled": false,
   "language": "python",
   "sourceType": "notebook"
  },
  "kernelspec": {
   "display_name": "Python 3",
   "language": "python",
   "name": "python3"
  },
  "language_info": {
   "codemirror_mode": {
    "name": "ipython",
    "version": 3
   },
   "file_extension": ".py",
   "mimetype": "text/x-python",
   "name": "python",
   "nbconvert_exporter": "python",
   "pygments_lexer": "ipython3",
   "version": "3.10.12"
  }
 },
 "nbformat": 4,
 "nbformat_minor": 4
}
